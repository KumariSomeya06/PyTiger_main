{
 "cells": [
  {
   "cell_type": "code",
   "execution_count": 9,
   "metadata": {},
   "outputs": [],
   "source": [
    "import datetime\n",
    "import paramiko\n",
    "from datetime import datetime, timedelta\n",
    "import traceback\n",
    "from pathlib import Path\n",
    "import os \n"
   ]
  },
  {
   "cell_type": "code",
   "execution_count": 3,
   "metadata": {},
   "outputs": [],
   "source": [
    "Hostname = \"162.27.169.18\"\n",
    "Username = \"AlvrzMrsl_LOG001\"\n",
    "Password = \"{x~[R}5x\""
   ]
  },
  {
   "cell_type": "code",
   "execution_count": null,
   "metadata": {},
   "outputs": [],
   "source": [
    "def set_sftp_conn(host, port, username, password):\n",
    "    \"\"\" set sftp connection to get the files, using config.py \"\"\"\n",
    "    # connect to sftp\n",
    "    transport = paramiko.Transport((host, port))\n",
    "    print(\"connecting to SFTP...\")\n",
    "    transport.connect(username=username, password=password)\n",
    "    sftp = paramiko.SFTPClient.from_transport(transport)\n",
    "    print(\"connection established.\")\n",
    "    return sftp\n",
    "\n",
    "\n",
    "def get_files_from_sftp(sftp, date_limit, remote_path):\n",
    "    to_load = False  # will set to True if there are files to load (for later implementation)\n",
    "    max_last_modified = datetime.now() - timedelta(days=7)  # set a date variable to compare files to\n",
    "\n",
    "    files = sftp.listdir(remote_path)  # get files in directory\n",
    "    # check for new files above date limit\n",
    "    max_file_path = \"\"\n",
    "    try:\n",
    "        for f in files:\n",
    "            # get last modified date/timestamp from file metadata\n",
    "            last_modified = sftp.stat(remote_path + f).st_mtime\n",
    "            last_modified_ts = datetime.fromtimestamp(last_modified)\n",
    "            last_modified_date = datetime.fromtimestamp(last_modified).date()\n",
    "\n",
    "            if last_modified_date > date_limit:  # check limit\n",
    "                if sftp.stat(remote_path + f).st_size > 1000:  # check if file is empty (in this case larger than 1MB)\n",
    "                    if last_modified_ts > max_last_modified:  # maintain last modified file\n",
    "                        max_last_modified = last_modified_ts\n",
    "                        max_file = f\n",
    "                        to_load = True\n",
    "\n",
    "        print(max_file)\n",
    "        return to_load, max_file\n",
    "\n",
    "    except:\n",
    "        trace_error = traceback.format_exc()\n",
    "        print('something is wrong - did not get files \\n' + trace_error)\n",
    "\n",
    "\n",
    "def main():\n",
    "\n",
    "    # set date limit for files\n",
    "    days_back = 2\n",
    "    date_limit = datetime.date(datetime.now()) - timedelta(days=days_back)\n",
    "    # set from & to paths for files to download\n",
    "    remote_path = 'PROD/From_LSC/'\n",
    "\n",
    "    sftp_conn = set_sftp_conn('162.27.169.18', 22, 'AlvrzMrsl_LOG001', '{x~[R}5x')  # establish sftp connection\n",
    "    \n",
    "    to_load, max_file = get_files_from_sftp(sftp_conn, date_limit, remote_path)\n",
    "    # check if there are files to load, if so, set s3 connection and load\n",
    "    print(max_file)\n",
    "    remote_path = 'PROD/From_LSC/'+max_file\n",
    "    localFilePath_stop = 'Updated_data/stop.csv'\n",
    "    sftp_conn.get(remote_path,localFilePath_stop)\n",
    "    print(\"ALL DONE!\")\n",
    "\n",
    "\n",
    "if __name__ == \"__main__\":\n",
    "    main()"
   ]
  },
  {
   "cell_type": "code",
   "execution_count": 17,
   "metadata": {},
   "outputs": [
    {
     "name": "stdout",
     "output_type": "stream",
     "text": [
      "connecting to SFTP...\n",
      "connection established.\n",
      "['2205160800_locc.csv', '2205160800_mfst.csv', '2205160800_stop.csv', '2205160815_mfst.csv', '2205160815_stop.csv', '2205160830_mfst.csv', '2205160830_stop.csv', '2205160845_mfst.csv', '2205160845_stop.csv', '2205160900_mfst.csv', '2205160900_stop.csv', '2205160915_mfst.csv', '2205160915_stop.csv', '2205160930_mfst.csv', '2205160930_stop.csv', '2205160945_mfst.csv', '2205160945_stop.csv', '2205161000_mfst.csv', '2205161000_stop.csv', '2205161015_mfst.csv', '2205161015_stop.csv', '2205161030_mfst.csv', '2205161030_stop.csv', '2205161045_mfst.csv', '2205161045_stop.csv', '2205161100_mfst.csv', '2205161100_stop.csv', '2205161115_mfst.csv', '2205161115_stop.csv', '2205161130_mfst.csv', '2205161130_stop.csv', '2205161145_mfst.csv', '2205161145_stop.csv', '2205161200_mfst.csv', '2205161200_stop.csv', '2205161215_mfst.csv', '2205161215_stop.csv', '2205161230_mfst.csv', '2205161230_stop.csv', '2205161245_mfst.csv', '2205161245_stop.csv', '2205161300_mfst.csv', '2205161300_stop.csv', '2205161315_mfst.csv', '2205161315_stop.csv', '2205161330_mfst.csv', '2205161330_stop.csv', '2205161345_mfst.csv', '2205161345_stop.csv', '2205161400_mfst.csv', '2205161400_stop.csv', '2205161415_mfst.csv', '2205161415_stop.csv', '2205161430_mfst.csv', '2205161430_stop.csv', '2205161445_mfst.csv', '2205161445_stop.csv', '2205161500_mfst.csv', '2205161500_stop.csv', '2205161515_mfst.csv', '2205161515_stop.csv', '2205161530_mfst.csv', '2205161530_stop.csv', '2205161545_mfst.csv', '2205161545_stop.csv', '2205161600_mfst.csv', '2205161600_stop.csv', '2205161615_mfst.csv', '2205161615_stop.csv', '2205161630_mfst.csv', '2205161630_stop.csv', '2205161645_mfst.csv', '2205161645_stop.csv', '2205161700_mfst.csv', '2205161700_stop.csv', '2205161715_mfst.csv', '2205161715_stop.csv', '2205161730_mfst.csv', '2205161730_stop.csv', '2205161745_mfst.csv', '2205161745_stop.csv', '2205161800_cost.csv', '2205161800_mfst.csv', '2205161800_stop.csv', '2205161815_mfst.csv', '2205161815_stop.csv', '2205161830_mfst.csv', '2205161830_stop.csv', '2205161845_mfst.csv', '2205161845_stop.csv', '2205161900_mfst.csv', '2205161900_stop.csv', '2205161915_mfst.csv', '2205161915_stop.csv', '2205161930_mfst.csv', '2205161930_stop.csv', '2205161945_mfst.csv', '2205161945_stop.csv', '2205162000_mfst.csv', '2205162000_stop.csv', '2205162015_mfst.csv', '2205162015_stop.csv', '2205162030_mfst.csv', '2205162030_stop.csv', '2205162045_mfst.csv', '2205162045_stop.csv', '2205162100_mfst.csv', '2205162100_stop.csv', '2205162115_mfst.csv', '2205162115_stop.csv', '2205162130_carr.csv', '2205162130_mfst.csv', '2205162130_stop.csv', '2205162145_mfst.csv', '2205162145_stop.csv', '2205162200_mfst.csv', '2205162200_stop.csv', '2205162215_mfst.csv', '2205162215_stop.csv', '2205162230_mfst.csv', '2205162230_stop.csv', '2205162245_mfst.csv', '2205162245_stop.csv', '2205170800_mfst.csv', '2205170800_stop.csv', '2205170815_mfst.csv', '2205170815_stop.csv', '2205170830_mfst.csv', '2205170830_stop.csv', '2205170845_mfst.csv', '2205170845_stop.csv', '2205170900_mfst.csv', '2205170900_stop.csv', '2205170915_locc.csv', '2205170915_mfst.csv', '2205170915_stop.csv', '2205170930_mfst.csv', '2205170930_stop.csv', '2205170945_mfst.csv', '2205170945_stop.csv', '2205171000_mfst.csv', '2205171000_stop.csv', '2205171015_mfst.csv', '2205171015_stop.csv', '2205171030_mfst.csv', '2205171030_stop.csv', '2205171045_mfst.csv', '2205171045_stop.csv', '2205171100_mfst.csv', '2205171100_stop.csv', '2205171115_mfst.csv', '2205171115_stop.csv', '2205171130_mfst.csv', '2205171130_stop.csv', '2205171145_mfst.csv', '2205171145_stop.csv', '2205171200_mfst.csv', '2205171200_stop.csv', '2205171215_mfst.csv', '2205171215_stop.csv', '2205171230_mfst.csv', '2205171230_stop.csv', '2205171245_mfst.csv', '2205171245_stop.csv', '2205171300_mfst.csv', '2205171300_stop.csv', '2205171315_mfst.csv', '2205171315_stop.csv', '2205171330_mfst.csv', '2205171330_stop.csv', '2205171345_mfst.csv', '2205171345_stop.csv', '2205171400_mfst.csv', '2205171400_stop.csv', '2205171415_mfst.csv', '2205171415_stop.csv', '2205171430_mfst.csv', '2205171430_stop.csv', '2205171445_mfst.csv', '2205171445_stop.csv', '2205171500_mfst.csv', '2205171500_stop.csv', '2205171515_mfst.csv', '2205171515_stop.csv', '2205171530_mfst.csv', '2205171530_stop.csv', '2205171545_mfst.csv', '2205171545_stop.csv', '2205171600_mfst.csv', '2205171600_stop.csv', '2205171615_mfst.csv', '2205171615_stop.csv', '2205171630_mfst.csv', '2205171630_stop.csv', '2205171645_mfst.csv', '2205171645_stop.csv', '2205171700_mfst.csv', '2205171700_stop.csv', '2205171715_mfst.csv', '2205171715_stop.csv', '2205171730_mfst.csv', '2205171730_stop.csv', '2205171745_mfst.csv', '2205171745_stop.csv', '2205171800_cost.csv', '2205171800_mfst.csv', '2205171800_stop.csv', '2205171815_mfst.csv', '2205171815_stop.csv', '2205171830_mfst.csv', '2205171830_stop.csv', '2205171845_mfst.csv', '2205171845_stop.csv', '2205171900_mfst.csv', '2205171900_stop.csv', '2205171915_mfst.csv', '2205171915_stop.csv', '2205171930_mfst.csv', '2205171930_stop.csv', '2205171945_mfst.csv', '2205171945_stop.csv', '2205172000_mfst.csv', '2205172000_stop.csv', '2205172015_mfst.csv', '2205172015_stop.csv', '2205172030_mfst.csv', '2205172030_stop.csv', '2205172045_mfst.csv', '2205172045_stop.csv', '2205172100_mfst.csv', '2205172100_stop.csv', '2205172115_mfst.csv', '2205172115_stop.csv', '2205172130_mfst.csv', '2205172130_stop.csv', '2205172145_mfst.csv', '2205172145_stop.csv', '2205172200_carr.csv', '2205172200_mfst.csv', '2205172200_stop.csv', '2205172215_mfst.csv', '2205172215_stop.csv', '2205172230_mfst.csv', '2205172230_stop.csv', '2205172245_locc.csv', '2205172245_mfst.csv', '2205172245_stop.csv', '2205180800_mfst.csv', '2205180800_stop.csv', '2205180815_mfst.csv', '2205180815_stop.csv', '2205180830_mfst.csv', '2205180830_stop.csv', '2205180845_mfst.csv', '2205180845_stop.csv', '2205180900_mfst.csv', '2205180900_stop.csv', '2205180915_mfst.csv', '2205180915_stop.csv', '2205180930_mfst.csv', '2205180930_stop.csv', '2205180945_mfst.csv', '2205180945_stop.csv', '2205181000_mfst.csv', '2205181000_stop.csv', '2205181015_mfst.csv', '2205181015_stop.csv', '2205181030_mfst.csv', '2205181030_stop.csv', '2205181045_mfst.csv', '2205181045_stop.csv', '2205181100_mfst.csv', '2205181100_stop.csv', '2205181115_mfst.csv', '2205181115_stop.csv', '2205181130_mfst.csv', '2205181130_stop.csv', '2205181145_mfst.csv', '2205181145_stop.csv', '2205181200_mfst.csv', '2205181200_stop.csv', '2205181215_mfst.csv', '2205181215_stop.csv', '2205181230_mfst.csv', '2205181230_stop.csv', '2205181245_mfst.csv', '2205181245_stop.csv', '2205181300_mfst.csv', '2205181300_stop.csv', '2205181315_mfst.csv', '2205181315_stop.csv', '2205181330_mfst.csv', '2205181330_stop.csv', '2205181345_mfst.csv', '2205181345_stop.csv', '2205181400_mfst.csv', '2205181400_stop.csv', '2205181415_mfst.csv', '2205181415_stop.csv', '2205181430_mfst.csv', '2205181430_stop.csv', '2205181445_mfst.csv', '2205181445_stop.csv', '2205181500_mfst.csv', '2205181500_stop.csv', '2205181515_mfst.csv', '2205181515_stop.csv', '2205181530_mfst.csv', '2205181530_stop.csv', '2205181545_mfst.csv', '2205181545_stop.csv', '2205181600_mfst.csv', '2205181600_stop.csv', '2205181615_mfst.csv', '2205181615_stop.csv', '2205181630_mfst.csv', '2205181630_stop.csv', '2205181645_mfst.csv', '2205181645_stop.csv', '2205181700_mfst.csv', '2205181700_stop.csv', '2205181715_mfst.csv', '2205181715_stop.csv', '2205181730_mfst.csv', '2205181730_stop.csv', '2205181745_mfst.csv', '2205181745_stop.csv', '2205181800_cost.csv', '2205181800_mfst.csv', '2205181800_stop.csv', '2205181815_mfst.csv', '2205181815_stop.csv', '2205181830_mfst.csv', '2205181830_stop.csv', '2205181845_mfst.csv', '2205181845_stop.csv', '2205181900_mfst.csv', '2205181900_stop.csv', '2205181915_mfst.csv', '2205181915_stop.csv', '2205181930_mfst.csv', '2205181930_stop.csv', '2205181945_mfst.csv', '2205181945_stop.csv', '2205182000_mfst.csv', '2205182000_stop.csv', '2205182015_mfst.csv', '2205182015_stop.csv', '2205182030_mfst.csv', '2205182030_stop.csv', '2205182045_mfst.csv', '2205182045_stop.csv', '2205182100_mfst.csv', '2205182100_stop.csv', '2205182115_mfst.csv', '2205182115_stop.csv', '2205182130_carr.csv', '2205182130_mfst.csv', '2205182130_stop.csv', '2205182145_mfst.csv', '2205182145_stop.csv', '2205182200_mfst.csv', '2205182200_stop.csv', '2205182215_mfst.csv', '2205182215_stop.csv', '2205182230_mfst.csv', '2205182230_stop.csv', '2205182245_mfst.csv', '2205182245_stop.csv', '2205190800_mfst.csv', '2205190800_stop.csv', '2205190815_mfst.csv', '2205190815_stop.csv', '2205190830_mfst.csv', '2205190830_stop.csv', '2205190845_mfst.csv', '2205190845_stop.csv', '2205190900_mfst.csv', '2205190900_stop.csv', '2205190915_mfst.csv', '2205190915_stop.csv', '2205190930_mfst.csv', '2205190930_stop.csv', '2205190945_mfst.csv', '2205190945_stop.csv', '2205191000_locc.csv', '2205191000_mfst.csv', '2205191000_stop.csv', '2205191015_mfst.csv', '2205191015_stop.csv', '2205191030_mfst.csv', '2205191030_stop.csv', '2205191045_mfst.csv', '2205191045_stop.csv', '2205191100_mfst.csv', '2205191100_stop.csv', '2205191115_mfst.csv', '2205191115_stop.csv', '2205191130_mfst.csv', '2205191130_stop.csv', '2205191145_mfst.csv', '2205191145_stop.csv', '2205191200_mfst.csv', '2205191200_stop.csv', '2205191215_mfst.csv', '2205191215_stop.csv', '2205191230_mfst.csv', '2205191230_stop.csv', '2205191245_mfst.csv', '2205191245_stop.csv', '2205191300_mfst.csv', '2205191300_stop.csv', '2205191315_mfst.csv', '2205191315_stop.csv', '2205191330_mfst.csv', '2205191330_stop.csv', '2205191345_mfst.csv', '2205191345_stop.csv', '2205191400_mfst.csv', '2205191400_stop.csv', '2205191415_mfst.csv', '2205191415_stop.csv', '2205191430_mfst.csv', '2205191430_stop.csv', '2205191445_mfst.csv', '2205191445_stop.csv', '2205191500_mfst.csv', '2205191500_stop.csv', '2205191515_mfst.csv', '2205191515_stop.csv', '2205191530_mfst.csv', '2205191530_stop.csv', '2205191545_mfst.csv', '2205191545_stop.csv', '2205191600_mfst.csv', '2205191600_stop.csv', '2205191615_mfst.csv', '2205191615_stop.csv', '2205191630_mfst.csv', '2205191630_stop.csv', '2205191645_mfst.csv', '2205191645_stop.csv', '2205191700_mfst.csv', '2205191700_stop.csv', '2205191715_mfst.csv', '2205191715_stop.csv', '2205191730_mfst.csv', '2205191730_stop.csv', '2205191745_mfst.csv', '2205191745_stop.csv', '2205191800_cost.csv', '2205191800_mfst.csv', '2205191800_stop.csv', '2205191815_mfst.csv', '2205191815_stop.csv', '2205191830_mfst.csv', '2205191830_stop.csv', '2205191845_mfst.csv', '2205191845_stop.csv', '2205191900_mfst.csv', '2205191900_stop.csv', '2205191915_mfst.csv', '2205191915_stop.csv', '2205191930_mfst.csv', '2205191930_stop.csv', '2205191945_mfst.csv', '2205191945_stop.csv', '2205192000_mfst.csv', '2205192000_stop.csv', '2205192015_mfst.csv', '2205192015_stop.csv', '2205192030_mfst.csv', '2205192030_stop.csv', '2205192045_mfst.csv', '2205192045_stop.csv', '2205192100_mfst.csv', '2205192100_stop.csv', '2205192115_mfst.csv', '2205192115_stop.csv', '2205192130_carr.csv', '2205192130_mfst.csv', '2205192130_stop.csv', '2205192145_locc.csv', '2205192145_mfst.csv', '2205192145_stop.csv', '2205192200_mfst.csv', '2205192200_stop.csv', '2205192215_mfst.csv', '2205192215_stop.csv', '2205192230_mfst.csv', '2205192230_stop.csv', '2205192245_mfst.csv', '2205192245_stop.csv', '2205200800_mfst.csv', '2205200800_stop.csv', '2205200815_mfst.csv', '2205200815_stop.csv', '2205200830_mfst.csv', '2205200830_stop.csv', '2205200845_mfst.csv', '2205200845_stop.csv', '2205200900_mfst.csv', '2205200900_stop.csv', '2205200915_mfst.csv', '2205200915_stop.csv', '2205200930_mfst.csv', '2205200930_stop.csv', '2205200945_mfst.csv', '2205200945_stop.csv', '2205201000_mfst.csv', '2205201000_stop.csv', '2205201015_mfst.csv', '2205201015_stop.csv', '2205201030_mfst.csv', '2205201030_stop.csv', '2205201045_mfst.csv', '2205201045_stop.csv', '2205201100_mfst.csv', '2205201100_stop.csv', '2205201115_mfst.csv', '2205201115_stop.csv', '2205201130_mfst.csv', '2205201130_stop.csv', '2205201145_mfst.csv', '2205201145_stop.csv', '2205201200_mfst.csv', '2205201200_stop.csv', '2205201215_mfst.csv', '2205201215_stop.csv', '2205201230_mfst.csv', '2205201230_stop.csv', '2205201245_mfst.csv', '2205201245_stop.csv', '2205201300_mfst.csv', '2205201300_stop.csv', '2205201315_mfst.csv', '2205201315_stop.csv', '2205201330_mfst.csv', '2205201330_stop.csv', '2205201345_mfst.csv', '2205201345_stop.csv', '2205201400_mfst.csv', '2205201400_stop.csv', '2205201430_mfst.csv', '2205201430_stop.csv', '2205201500_mfst.csv', '2205201500_stop.csv', '2205201515_mfst.csv', '2205201515_stop.csv', '2205201530_mfst.csv', '2205201530_stop.csv', '2205201545_mfst.csv', '2205201545_stop.csv', '2205201600_mfst.csv', '2205201600_stop.csv', '2205201615_mfst.csv', '2205201615_stop.csv', '2205201630_mfst.csv', '2205201630_stop.csv', '2205201645_mfst.csv', '2205201645_stop.csv', '2205201700_mfst.csv', '2205201700_stop.csv', '2205201715_mfst.csv', '2205201715_stop.csv', '2205201730_mfst.csv', '2205201730_stop.csv', '2205201745_mfst.csv', '2205201745_stop.csv', '2205201800_cost.csv', '2205201800_mfst.csv', '2205201800_stop.csv', '2205201815_mfst.csv', '2205201815_stop.csv', '2205201830_mfst.csv', '2205201830_stop.csv', '2205201845_mfst.csv', '2205201845_stop.csv', '2205201900_mfst.csv', '2205201900_stop.csv', '2205201915_mfst.csv', '2205201915_stop.csv', '2205201930_mfst.csv', '2205201930_stop.csv', '2205201945_mfst.csv', '2205201945_stop.csv', '2205202000_mfst.csv', '2205202000_stop.csv', '2205202015_mfst.csv', '2205202015_stop.csv', '2205202030_mfst.csv', '2205202030_stop.csv', '2205202045_mfst.csv', '2205202045_stop.csv', '2205202100_mfst.csv', '2205202100_stop.csv', '2205202115_mfst.csv', '2205202115_stop.csv', '2205202130_mfst.csv', '2205202130_stop.csv', '2205202145_mfst.csv', '2205202145_stop.csv', '2205202200_mfst.csv', '2205202200_stop.csv', '2205202215_mfst.csv', '2205202215_stop.csv', '2205202230_mfst.csv', '2205202230_stop.csv', '2205202245_carr.csv', '2205202245_mfst.csv', '2205202245_stop.csv', '2205210800_mfst.csv', '2205210800_stop.csv', '2205210830_mfst.csv', '2205210830_stop.csv', '2205210845_mfst.csv', '2205210845_stop.csv', '2205211015_mfst.csv', '2205211015_stop.csv', '2205211430_mfst.csv', '2205211430_stop.csv', '2205211800_cost.csv', '2205212200_carr.csv', '2205221200_mfst.csv', '2205221200_stop.csv', '2205221500_mfst.csv', '2205221500_stop.csv', '2205221800_cost.csv', '2205222241_carr.csv']\n"
     ]
    }
   ],
   "source": [
    "all_files=[]\n",
    "def set_sftp_conn(host, port, username, password):\n",
    "    \"\"\" set sftp connection to get the files, using config.py \"\"\"\n",
    "    # connect to sftp\n",
    "    transport = paramiko.Transport((host, port))\n",
    "    print(\"connecting to SFTP...\")\n",
    "    transport.connect(username=username, password=password)\n",
    "    sftp = paramiko.SFTPClient.from_transport(transport)\n",
    "    print(\"connection established.\")\n",
    "    return sftp\n",
    "\n",
    "\n",
    "def get_files_from_sftp(sftp, remote_path):\n",
    "    files = sftp.listdir(remote_path)\n",
    "    try:\n",
    "        for f in files:\n",
    "            if f.endswith(\".csv\"):\n",
    "                all_files.append(f)\n",
    "    except:\n",
    "        trace_error = traceback.format_exc()\n",
    "        print('something is wrong - did not get files \\n' + trace_error)\n",
    "\n",
    "\n",
    "def main():\n",
    "\n",
    "    remote_path = 'PROD/From_LSC/'\n",
    "\n",
    "    sftp_conn = set_sftp_conn('162.27.169.18', 22, 'AlvrzMrsl_LOG001', '{x~[R}5x')\n",
    "    \n",
    "    get_files_from_sftp(sftp_conn,remote_path)\n",
    "    print(all_files)\n",
    "  \n",
    "\n",
    "\n",
    "if __name__ == \"__main__\":\n",
    "    main()"
   ]
  },
  {
   "cell_type": "code",
   "execution_count": null,
   "metadata": {},
   "outputs": [],
   "source": []
  },
  {
   "cell_type": "code",
   "execution_count": null,
   "metadata": {},
   "outputs": [],
   "source": []
  },
  {
   "cell_type": "code",
   "execution_count": null,
   "metadata": {},
   "outputs": [],
   "source": []
  },
  {
   "cell_type": "code",
   "execution_count": null,
   "metadata": {},
   "outputs": [],
   "source": []
  },
  {
   "cell_type": "code",
   "execution_count": 14,
   "metadata": {},
   "outputs": [
    {
     "name": "stdout",
     "output_type": "stream",
     "text": [
      "connecting to SFTP...\n",
      "connection established.\n",
      "C:/Users/Someya.Kumari/From_LSC/2205222241_carr.csv\n",
      "ALL DONE!\n"
     ]
    }
   ],
   "source": [
    "def set_sftp_conn(host, port, username, password):\n",
    "    \"\"\" set sftp connection to get the files, using config.py \"\"\"\n",
    "    # connect to sftp\n",
    "    transport = paramiko.Transport((host, port))\n",
    "    print(\"connecting to SFTP...\")\n",
    "    transport.connect(username=username, password=password)\n",
    "    sftp = paramiko.SFTPClient.from_transport(transport)\n",
    "    print(\"connection established.\")\n",
    "    return sftp\n",
    " \n",
    "\n",
    "def get_files_from_sftp(sftp, remote_path):\n",
    "    files = sftp.listdir(remote_path)\n",
    "    try:\n",
    "        for f in files:\n",
    "            if f.endswith(\".csv\"):\n",
    "                remote_path = f'PROD/From_LSC/{f}'\n",
    "                localFilePath_stop = f'C:/Users/Someya.Kumari/From_LSC/{f}'\n",
    "                # Download the file if it does not exist\n",
    "                path = Path(localFilePath_stop)\n",
    "                if path.is_file():\n",
    "                    pass\n",
    "                else:\n",
    "                    sftp.get(remote_path,localFilePath_stop)\n",
    "                    print(localFilePath_stop)\n",
    "    except:\n",
    "        trace_error = traceback.format_exc()\n",
    "        print('something is wrong - did not get files \\n' + trace_error)\n",
    "    print(\"ALL DONE!\")\n",
    "\n",
    "\n",
    "def main():\n",
    "\n",
    "    remote_path = 'PROD/From_LSC/'\n",
    "\n",
    "    sftp_conn = set_sftp_conn('162.27.169.18', 22, 'AlvrzMrsl_LOG001', '{x~[R}5x')\n",
    "    \n",
    "    get_files_from_sftp(sftp_conn,remote_path)\n",
    "  \n",
    "  \n",
    "\n",
    "if __name__ == \"__main__\":\n",
    "    main()"
   ]
  },
  {
   "cell_type": "code",
   "execution_count": null,
   "metadata": {},
   "outputs": [],
   "source": []
  }
 ],
 "metadata": {
  "interpreter": {
   "hash": "26de051ba29f2982a8de78e945f0abaf191376122a1563185a90213a26c5da77"
  },
  "kernelspec": {
   "display_name": "Python 3.10.4 64-bit",
   "language": "python",
   "name": "python3"
  },
  "language_info": {
   "codemirror_mode": {
    "name": "ipython",
    "version": 3
   },
   "file_extension": ".py",
   "mimetype": "text/x-python",
   "name": "python",
   "nbconvert_exporter": "python",
   "pygments_lexer": "ipython3",
   "version": "3.10.4"
  },
  "orig_nbformat": 4
 },
 "nbformat": 4,
 "nbformat_minor": 2
}
